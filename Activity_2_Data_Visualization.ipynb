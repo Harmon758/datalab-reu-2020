{
  "nbformat": 4,
  "nbformat_minor": 0,
  "metadata": {
    "colab": {
      "name": "Activity 2 Data Visualization.ipynb",
      "provenance": [],
      "collapsed_sections": [],
      "toc_visible": true
    },
    "kernelspec": {
      "name": "python3",
      "display_name": "Python 3"
    }
  },
  "cells": [
    {
      "cell_type": "markdown",
      "metadata": {
        "id": "QxxH0AcX15bs",
        "colab_type": "text"
      },
      "source": [
        "# Activity 2 - Data Visualization\n",
        "**2020 Data Labs REU**\n",
        "\n",
        "*Written by Sage Lichtenwalner, Rutgers University, June 6, 2020*\n",
        "\n",
        "In this notebook we will cover some of basics of plotting in python, primarily using the [matplotlib](https://matplotlib.org) library.  We've actually already used this library, as it is built into the pandas and xarray libraries to provide quick plotting capabilities.  But if we want to customize our charts, it's often better to create them directly using matplotlib function calls.\n",
        "\n",
        "The examples today will continue to use the mooring timeseries data available from [NDBC](https://www.ndbc.noaa.gov), but we will also look at profiles from the [ARGO](https://www.aoml.noaa.gov/phod/argo/) drifter network, which will allow use to create some other graph types you commonly see in oceanography, including profiles and TS diagrams."
      ]
    },
    {
      "cell_type": "code",
      "metadata": {
        "id": "2RFwIGGoqOAc",
        "colab_type": "code",
        "colab": {}
      },
      "source": [
        "# Notebook setup\n",
        "import xarray as xr\n",
        "!pip install netcdf4\n",
        "\n",
        "import matplotlib.pyplot as plt"
      ],
      "execution_count": 0,
      "outputs": []
    },
    {
      "cell_type": "markdown",
      "metadata": {
        "id": "wz9cADfDiJrB",
        "colab_type": "text"
      },
      "source": [
        "# NDBC Timeseries\n",
        "Following our example from yesterday, let's load some timeseries data from an NDBC mooring.  We will use this dataset to show how to customize your plot."
      ]
    },
    {
      "cell_type": "code",
      "metadata": {
        "id": "EhkuiP5kqQ7r",
        "colab_type": "code",
        "colab": {}
      },
      "source": [
        "# Open dataset\n",
        "ds = xr.open_dataset('https://dods.ndbc.noaa.gov/thredds/dodsC/data/stdmet/44025/44025.ncml')\n",
        "\n",
        "# Subset the dataset to 1 year\n",
        "ds = ds.sel(time=slice('2019-01-01','2020-01-01'))"
      ],
      "execution_count": 0,
      "outputs": []
    },
    {
      "cell_type": "markdown",
      "metadata": {
        "id": "aoBzRGc0g8f_",
        "colab_type": "text"
      },
      "source": [
        "## Convert Xarray Dataset to Pandas Dataframe\n",
        "Yesterday we used the power of Xarray to load our NDBC dataset directly from a Thredds server.  Xarray is great, especially when dealing with 3D or 4D datasets. But it can overcomplicate things.  For example, our NDBC dataset actually loads with 3 dimensions (time, latitude and longitude), but we only need 1 (time).\n",
        "\n",
        "Here are a few example plotting calls.  Can you tell what's different in the output for each?"
      ]
    },
    {
      "cell_type": "code",
      "metadata": {
        "id": "gCwKa_iGhyhz",
        "colab_type": "code",
        "colab": {}
      },
      "source": [
        "# Built in xarray plotting\n",
        "# ds.sea_surface_temperature.plot();\n",
        "\n",
        "# Plot using matplotlib - This won't work\n",
        "# plt.plot(ds.sea_surface_temperature);\n",
        "\n",
        "# Plot using matplotlib - This will, but the units are wrong\n",
        "# plt.plot(ds.sea_surface_temperature.squeeze())\n",
        "\n",
        "# Plot using matplotlib - Correctly plotted with time\n",
        "# plt.plot(ds.time,ds.sea_surface_temperature.squeeze())"
      ],
      "execution_count": 0,
      "outputs": []
    },
    {
      "cell_type": "markdown",
      "metadata": {
        "id": "x8bE343DjfyI",
        "colab_type": "text"
      },
      "source": [
        "To simply things, we can convert our Xarray Dataset to a Pandas Dataframe, which will give use something like a spreadsheet of columns for each variable, and rows for each measurement time.\n",
        "\n",
        "Here's how easy it is to convert."
      ]
    },
    {
      "cell_type": "code",
      "metadata": {
        "id": "m-JgymDurD9z",
        "colab_type": "code",
        "colab": {}
      },
      "source": [
        "# Convert to Pandas Dataframe\n",
        "df = ds.to_dataframe()\n",
        "df.head()"
      ],
      "execution_count": 0,
      "outputs": []
    },
    {
      "cell_type": "markdown",
      "metadata": {
        "id": "yKEsomTbj8jd",
        "colab_type": "text"
      },
      "source": [
        "Unfortunately, there's still a bit of complexity here because of the multi-dimensional index.  If we try to plot this now, we get some crazy labels."
      ]
    },
    {
      "cell_type": "code",
      "metadata": {
        "id": "FzuWgc81j5Ot",
        "colab_type": "code",
        "colab": {}
      },
      "source": [
        "df.sea_surface_temperature.plot()"
      ],
      "execution_count": 0,
      "outputs": []
    },
    {
      "cell_type": "markdown",
      "metadata": {
        "id": "u7n-GfWXkO7S",
        "colab_type": "text"
      },
      "source": [
        "Here's how we can properly convert this Dataset to a Dataframe."
      ]
    },
    {
      "cell_type": "code",
      "metadata": {
        "id": "aR1ASIUsqbjH",
        "colab_type": "code",
        "colab": {}
      },
      "source": [
        "# Convert to Pandas Dataframe\n",
        "df = ds.to_dataframe().reset_index().set_index('time')\n",
        "df.head()"
      ],
      "execution_count": 0,
      "outputs": []
    },
    {
      "cell_type": "code",
      "metadata": {
        "id": "BVWMyXBxkc3R",
        "colab_type": "code",
        "colab": {}
      },
      "source": [
        "# Yes, even Pandas has built in plotting\n",
        "df.sea_surface_temperature.plot()"
      ],
      "execution_count": 0,
      "outputs": []
    },
    {
      "cell_type": "markdown",
      "metadata": {
        "id": "UQP0ag8JkZNY",
        "colab_type": "text"
      },
      "source": [
        "And now we're off to the races."
      ]
    },
    {
      "cell_type": "markdown",
      "metadata": {
        "id": "ZywEndgyzyCF",
        "colab_type": "text"
      },
      "source": [
        "## Customizing Timeseries Plots\n",
        "Matplotlib provides quite a few ways to customize your plot.  "
      ]
    },
    {
      "cell_type": "markdown",
      "metadata": {
        "id": "UGdAePY-gI4J",
        "colab_type": "text"
      },
      "source": [
        "### Customizing Lines\n",
        "Here are some of the more common parameters you will typically use when creating your plot.\n",
        "\n",
        "* linewidth - For example 0.5, 1, 2...\n",
        "* linestyle - For example '-','--', or ':' or other [basic](https://matplotlib.org/api/_as_gen/matplotlib.lines.Line2D.html#matplotlib.lines.Line2D.set_linestyle) or [advanced](https://matplotlib.org/gallery/lines_bars_and_markers/linestyles.html) styles\n",
        "* [color](https://matplotlib.org/gallery/color/named_colors.html)\n",
        "* [marker](https://matplotlib.org/api/markers_api.html#module-matplotlib.markers)\n",
        "* label - The name of the line, used in a legend\n",
        "\n",
        "For reference and inspiration, you can also check out the [Matplotlib Gallery](https://matplotlib.org/gallery/index.html)."
      ]
    },
    {
      "cell_type": "code",
      "metadata": {
        "id": "VWNuGX6krKO0",
        "colab_type": "code",
        "colab": {}
      },
      "source": [
        "# Line Example\n",
        "plt.plot(df.index,df.sea_surface_temperature, color='red', linewidth=3)"
      ],
      "execution_count": 0,
      "outputs": []
    },
    {
      "cell_type": "code",
      "metadata": {
        "id": "pm5IzQ8AsE6f",
        "colab_type": "code",
        "colab": {}
      },
      "source": [
        "# Custom Markers Example\n",
        "plt.plot(df.index,df.sea_surface_temperature, color='red', linestyle='', \n",
        "         marker='d', markerfacecolor='b', markeredgecolor='g', markersize=5)"
      ],
      "execution_count": 0,
      "outputs": []
    },
    {
      "cell_type": "code",
      "metadata": {
        "id": "Bl3SyVeyqv2l",
        "colab_type": "code",
        "colab": {}
      },
      "source": [
        "# Your Turn - Create a graph of air temperature using blue dots"
      ],
      "execution_count": 0,
      "outputs": []
    },
    {
      "cell_type": "markdown",
      "metadata": {
        "id": "KLhQEBbQqHl5",
        "colab_type": "text"
      },
      "source": [
        "### Customizing the Axis\n",
        "* Axis Title: `plt.title('Title')`\n",
        "* Legend: `plt.legend()`\n",
        "* Axes Labels: `plt.xlabel('Time')` or `plt.ylabel('Temperature')`\n",
        "* Axes Limits: `plt.ylim([-5,5])`\n"
      ]
    },
    {
      "cell_type": "code",
      "metadata": {
        "id": "nfPzhFOmtJCv",
        "colab_type": "code",
        "colab": {}
      },
      "source": [
        "# Incomplete Example\n",
        "plt.plot(df.index,df.air_temperature, color='red')\n",
        "plt.plot(df.index,df.sea_surface_temperature, color='blue', label='Sea Surface Temp')\n",
        "plt.legend();"
      ],
      "execution_count": 0,
      "outputs": []
    },
    {
      "cell_type": "code",
      "metadata": {
        "id": "35jnNjmZtjg0",
        "colab_type": "code",
        "colab": {}
      },
      "source": [
        "# Your turn - Fix the legend, and add a title and y label to the above plot"
      ],
      "execution_count": 0,
      "outputs": []
    },
    {
      "cell_type": "markdown",
      "metadata": {
        "id": "PwV_p5YDq1e_",
        "colab_type": "text"
      },
      "source": [
        "### Adding Subplots\n",
        "We can also create a figure with multiple plots using the subplot feature."
      ]
    },
    {
      "cell_type": "code",
      "metadata": {
        "id": "bNdpbTv3qzoM",
        "colab_type": "code",
        "colab": {}
      },
      "source": [
        "# Subplot example\n",
        "fig, (ax1,ax2) = plt.subplots(2,1, sharex=True, figsize=(10,6))\n",
        "\n",
        "df.air_temperature.plot(ax=ax1)\n",
        "df.sea_surface_temperature.plot(ax=ax1)\n",
        "df.wind_spd.plot(ax=ax2, marker='.',linestyle='',markersize=1)\n",
        "\n",
        "ax1.legend()\n",
        "ax1.set_ylabel('Temperature (C)')\n",
        "ax2.set_ylabel('Wind Speed (m/s)')\n",
        "ax1.set_title('NDBC Station 44025');"
      ],
      "execution_count": 0,
      "outputs": []
    },
    {
      "cell_type": "code",
      "metadata": {
        "id": "eOY5YRUurG0A",
        "colab_type": "code",
        "colab": {}
      },
      "source": [
        "# Your Turn - Recreate the above plot with a 3rd subplot using another variable"
      ],
      "execution_count": 0,
      "outputs": []
    },
    {
      "cell_type": "markdown",
      "metadata": {
        "id": "hRcYklGsEULf",
        "colab_type": "text"
      },
      "source": [
        "## Scatterplot\n",
        "When two variables are plotted against each other, this is typically called a scatterplot.  They are really no different than the plots we crated above.  We just need to pick two variables, and use a marker instead of a line."
      ]
    },
    {
      "cell_type": "code",
      "metadata": {
        "id": "sYwPGpPvyTwC",
        "colab_type": "code",
        "colab": {}
      },
      "source": [
        "plt.plot(df.sea_surface_temperature,df.air_temperature, linestyle='', marker='.', markersize=3)\n",
        "# plt.scatter(df.sea_surface_temperature, df.air_temperature, s=3) #Another way\n",
        "plt.xlabel('Sea Surface Temperature (C)')\n",
        "plt.ylabel('Air Temperature (C)')\n",
        "plt.title('NDBC Station 44025 from 1/1/2019 to 1/1/2020');"
      ],
      "execution_count": 0,
      "outputs": []
    },
    {
      "cell_type": "code",
      "metadata": {
        "id": "hfs4QRJay4DH",
        "colab_type": "code",
        "colab": {}
      },
      "source": [
        "# Your Turn - Create a scatterplot of winds vs. waves"
      ],
      "execution_count": 0,
      "outputs": []
    },
    {
      "cell_type": "markdown",
      "metadata": {
        "id": "8YtkThM0Ezru",
        "colab_type": "text"
      },
      "source": [
        "## Histogram\n",
        "We can easily create [histograms](https://matplotlib.org/gallery/statistics/hist.html?highlight=histogram) of a single variable.  Use the `bins` parameter to increase or decrease the number of data bins."
      ]
    },
    {
      "cell_type": "code",
      "metadata": {
        "id": "iTvGj4n1Mfet",
        "colab_type": "code",
        "colab": {}
      },
      "source": [
        "# We can also easily create histograms\n",
        "df['sea_surface_temperature'].hist(bins=50);"
      ],
      "execution_count": 0,
      "outputs": []
    },
    {
      "cell_type": "markdown",
      "metadata": {
        "id": "bXCWc8wJz-53",
        "colab_type": "text"
      },
      "source": [
        "## Box Plots\n",
        "You can also create box plots of your data rather easily.  You could also create [violin plots](https://matplotlib.org/3.2.1/gallery/statistics/boxplot_vs_violin.html)."
      ]
    },
    {
      "cell_type": "code",
      "metadata": {
        "id": "Q7nXcFTBMhhG",
        "colab_type": "code",
        "colab": {}
      },
      "source": [
        "# And boxplots\n",
        "df[['sea_surface_temperature','air_temperature','wind_spd']].plot.box(vert=False);"
      ],
      "execution_count": 0,
      "outputs": []
    },
    {
      "cell_type": "markdown",
      "metadata": {
        "id": "IvqcKAry0JTd",
        "colab_type": "text"
      },
      "source": [
        "# ARGO Drifter Data\n",
        "While timeseries datasets at fixed points are very useful, the ocean is a deep place with a lot of interesting features and processes that vary with depth.  \n",
        "\n",
        "Thus, it's also important to be able to visualize data in ways that emphasize the depth dimension, just as we've emphasized the time dimension above.\n",
        "\n",
        "To do so, we're going to load data from the [Global Argo Float](http://www.argo.ucsd.edu) program, which had 3,962 active drifters around the world as of 6/6/2020.\n",
        "![Argo Floats](http://www.argo.ucsd.edu/status.jpg)\n",
        "\n",
        "Unfortunately, because of the complexity and international nature of the program, there isn't one \"perfect\" source to retrieve Argo data, or even to search for drifters you may be interested in.  However, I found the following sites helpful.\n",
        "\n",
        "* [SCCOM Floats](https://www.mbari.org/science/upper-ocean-systems/chemical-sensor-group/soccom-float-visualization/) - A great interactive visualization of active floats in the Southern Ocean. You can also create quick plots and download CSV formatted data using [SOCCOMViz](https://www.mbari.org/science/upper-ocean-systems/chemical-sensor-group/soccomviz/).\n",
        "* [Global Argo Data Repository](https://www.ncei.noaa.gov/products/global-argo-data-repository) - A great place to grab drifter data files in netcdf format, once you know what drifter ID you want. (We'll actually use this site below.)\n",
        "* [Euro Argo Map](https://fleetmonitoring.euro-argo.eu/dashboard) - A relatively new interactive portal to search for drifters and see their recent tracks and data.\n",
        "* [A beginner's guide to accessing Argo data](http://www.argo.ucsd.edu/Argo_date_guide.html) - More information on the data.\n",
        "* [Old Euro Argo Site](https://www.euro-argo.eu/Activities/Data-Management/Access-to-data-note-this-website-is-currently-under-revision-and-will-be-updated-in-2020) - May or may not work \n",
        "\n",
        "For the purposes of this activity, I picked an active drifter at random. Let's see what #5906017 can tell us about the ocean."
      ]
    },
    {
      "cell_type": "code",
      "metadata": {
        "id": "m8vh1Sopkolc",
        "colab_type": "code",
        "colab": {}
      },
      "source": [
        "# Let's download a datafile to our serve (see the files tab)\n",
        "!wget https://data.nodc.noaa.gov/argo/gadr/data/aoml/5906017/nodc_5906017_prof.nc"
      ],
      "execution_count": 0,
      "outputs": []
    },
    {
      "cell_type": "code",
      "metadata": {
        "id": "dROtTEC3ilPg",
        "colab_type": "code",
        "colab": {}
      },
      "source": [
        "# Load the dataset using xarray\n",
        "data = xr.open_dataset('nodc_5906017_prof.nc')\n",
        "data"
      ],
      "execution_count": 0,
      "outputs": []
    },
    {
      "cell_type": "markdown",
      "metadata": {
        "id": "HSyvpnKD7Kve",
        "colab_type": "text"
      },
      "source": [
        "As you can see, this dataset is a bit more complicated than our mooring timeseries dataset.  \n",
        "\n",
        "Argo uses the dimensions n_levels (for depth) and n_prof (for time)."
      ]
    },
    {
      "cell_type": "code",
      "metadata": {
        "id": "PtBykUC6illE",
        "colab_type": "code",
        "colab": {}
      },
      "source": [
        "# Quick Timeseries Profile plot of Temperature\n",
        "data.temp_adjusted.T.plot()\n",
        "plt.gca().invert_yaxis()"
      ],
      "execution_count": 0,
      "outputs": []
    },
    {
      "cell_type": "markdown",
      "metadata": {
        "id": "9-LzwIYPIz2J",
        "colab_type": "text"
      },
      "source": [
        "*Note, when possible, you should use the `_adjusted` variables, as those have been corrected.  However, if you are interested in more recent data that hasn't been corrected yet, you will need to use the regular variable names (e.g. temp instead of temp_adjusted).*"
      ]
    },
    {
      "cell_type": "markdown",
      "metadata": {
        "id": "rym_apUT_5ZC",
        "colab_type": "text"
      },
      "source": [
        "## Profile Plot\n",
        "Now that we have the dataset loaded, let's create a profile plot of a single profile."
      ]
    },
    {
      "cell_type": "code",
      "metadata": {
        "id": "17gQ3_obAAMw",
        "colab_type": "code",
        "colab": {}
      },
      "source": [
        "# Profile Plot\n",
        "nprof = 25 #Specify a profile to plot\n",
        "plt.plot(data.temp_adjusted[nprof], data.pres_adjusted[nprof])\n",
        "\n",
        "plt.xlabel('Temperature (C)')\n",
        "plt.ylabel('Pressure (dbar)')\n",
        "plt.title('Argo Profile from %s' % data.juld[nprof].dt.strftime('%a, %b %d %H:%M').values)\n",
        "\n",
        "plt.gca().invert_yaxis() #Flip the y-axis"
      ],
      "execution_count": 0,
      "outputs": []
    },
    {
      "cell_type": "markdown",
      "metadata": {
        "id": "MfAwlj5-FU2o",
        "colab_type": "text"
      },
      "source": [
        "Now let's get a little fancier and plot profiles of 2 variables."
      ]
    },
    {
      "cell_type": "code",
      "metadata": {
        "id": "CI9GF9bnCgnm",
        "colab_type": "code",
        "colab": {}
      },
      "source": [
        "# Profile Plot\n",
        "# Subplot example\n",
        "fig, (ax1,ax2) = plt.subplots(1,2, sharey=True, figsize=(10,6))\n",
        "\n",
        "nprof = 0 # Fist profile\n",
        "ax1.plot(data.temp_adjusted[nprof], data.pres_adjusted[nprof], label=data.juld[nprof].dt.strftime('%Y-%m-%d').values)\n",
        "ax2.plot(data.psal_adjusted[nprof], data.pres_adjusted[nprof])\n",
        "\n",
        "nprof = 25 # Middle-ish profile\n",
        "ax1.plot(data.temp_adjusted[nprof], data.pres_adjusted[nprof], label=data.juld[nprof].dt.strftime('%Y-%m-%d').values)\n",
        "ax2.plot(data.psal_adjusted[nprof], data.pres_adjusted[nprof])\n",
        "\n",
        "nprof = -1 # Last profile\n",
        "ax1.plot(data.temp_adjusted[nprof], data.pres_adjusted[nprof], label=data.juld[nprof].dt.strftime('%Y-%m-%d').values)\n",
        "ax2.plot(data.psal_adjusted[nprof], data.pres_adjusted[nprof])\n",
        "\n",
        "ax1.set_ylabel('Pressure (dbar)')\n",
        "ax1.set_xlabel('Temperature (C)')\n",
        "ax2.set_xlabel('Salinity')\n",
        "ax1.invert_yaxis()\n",
        "ax1.legend()\n",
        "\n",
        "# Add some gridlines\n",
        "ax1.grid()\n",
        "ax2.grid()\n",
        "\n",
        "# Add a super title\n",
        "fig.suptitle('Argo Float #%d' % data.platform_number[nprof].values, fontweight='bold', fontsize=16);"
      ],
      "execution_count": 0,
      "outputs": []
    },
    {
      "cell_type": "markdown",
      "metadata": {
        "id": "WAdGUxSuZhl2",
        "colab_type": "text"
      },
      "source": [
        "### Activity Break\n",
        "Repeat the steps above to create profile plot of temperature and salinity using Float 5905077.  \n",
        "\n",
        "Note that this float has a lot of other variables that could be investigated."
      ]
    },
    {
      "cell_type": "code",
      "metadata": {
        "id": "-Tkkg_8jZhNg",
        "colab_type": "code",
        "colab": {}
      },
      "source": [
        "# Your Turn - Download the data"
      ],
      "execution_count": 0,
      "outputs": []
    },
    {
      "cell_type": "code",
      "metadata": {
        "id": "Xs7B1h5MZ3i9",
        "colab_type": "code",
        "colab": {}
      },
      "source": [
        "# Your Turn - Load the data"
      ],
      "execution_count": 0,
      "outputs": []
    },
    {
      "cell_type": "code",
      "metadata": {
        "id": "60PQcdV5Z3r0",
        "colab_type": "code",
        "colab": {}
      },
      "source": [
        "# Your Turn - Profile plot"
      ],
      "execution_count": 0,
      "outputs": []
    },
    {
      "cell_type": "markdown",
      "metadata": {
        "id": "2L2jW-z5EVac",
        "colab_type": "text"
      },
      "source": [
        "## T-S Diagram\n",
        "Another popular plot in oceanography is the [T-S Diagram](https://en.wikipedia.org/wiki/Temperature–salinity_diagram), or Temperature-Salinity plot.  It is commonly used to diagnose water masses in the global ocean, and to compare density stability of a water column profile (especially when lines of constant density are also included).\n",
        "\n",
        "Basically, it's just a scatterplot of temp and salinity."
      ]
    },
    {
      "cell_type": "code",
      "metadata": {
        "id": "gY0pPo-AK6Tv",
        "colab_type": "code",
        "colab": {}
      },
      "source": [
        "# TS Diagram\n",
        "nprof = 25 #Selected profile\n",
        "plt.scatter(data.psal_adjusted[nprof], data.temp_adjusted[nprof])\n",
        "plt.xlabel('Salinity')\n",
        "plt.ylabel('Temperature (°C)')\n",
        "plt.grid()\n",
        "\n",
        "plt.title('Argo Float #%d' % data.platform_number[nprof].values, fontweight='bold');"
      ],
      "execution_count": 0,
      "outputs": []
    },
    {
      "cell_type": "markdown",
      "metadata": {
        "id": "cZE5KmRgLdae",
        "colab_type": "text"
      },
      "source": [
        "That's nice, but we can also use a colored scatterplot to show the depth dimension."
      ]
    },
    {
      "cell_type": "code",
      "metadata": {
        "id": "IyjdH8hDL0Ct",
        "colab_type": "code",
        "colab": {}
      },
      "source": [
        "# T-S Diagram with depth\n",
        "plt.figure(figsize=(8,6))\n",
        "\n",
        "nprof = 25 #Selected profile\n",
        "plt.scatter(data.psal_adjusted[nprof], data.temp_adjusted[nprof], c=data.pres_adjusted[nprof], cmap='viridis_r')\n",
        "plt.xlabel('Salinity');\n",
        "plt.ylabel('Temperature (°C)')\n",
        "\n",
        "cbh = plt.colorbar();\n",
        "cbh.set_label('Pressure (dbar)')"
      ],
      "execution_count": 0,
      "outputs": []
    },
    {
      "cell_type": "markdown",
      "metadata": {
        "id": "xjgcqHV6Lhvt",
        "colab_type": "text"
      },
      "source": [
        "We used the default python colorbar for this plot (viridis), but there is a much larger [colormap collection](https://matplotlib.org/users/colormaps.html) available.\n",
        "\n",
        "With a little bit more code, we can add lines of constant density.  This was adapted from the [Ocean Python T-S Diagram](https://oceanpython.org/2013/02/17/t-s-diagram/) example, but we will use meshgrid instead, since it makes the code a bit simpler.\n",
        "\n",
        "\n",
        "To calculate density, we will need the wonderful [seawater](https://pythonhosted.org/seawater/index.html) library."
      ]
    },
    {
      "cell_type": "code",
      "metadata": {
        "id": "EiU9aPh5M3Ub",
        "colab_type": "code",
        "colab": {}
      },
      "source": [
        "!pip install seawater\n",
        "import seawater\n",
        "import numpy as np"
      ],
      "execution_count": 0,
      "outputs": []
    },
    {
      "cell_type": "code",
      "metadata": {
        "id": "JxES1s2-M5bU",
        "colab_type": "code",
        "colab": {}
      },
      "source": [
        "# TS Diagram with density contours\n",
        "plt.figure(figsize=(8,6))\n",
        "\n",
        "# Calculate the density lines\n",
        "x = np.arange(33, 35, .1)\n",
        "y = np.arange(2, 23, .5)\n",
        "X, Y = np.meshgrid(x, y)\n",
        "Z = seawater.eos80.dens0(X,Y) - 1000 # Substract 1000 to convert to sigma-t\n",
        "\n",
        "# Plot the contour lines\n",
        "CS = plt.contour(X, Y, Z, colors='grey', linestyles='dashed', levels=np.arange(22,30,.5))\n",
        "plt.clabel(CS, inline=1, fontsize=10, fmt='%0.1f')\n",
        "\n",
        "# Plot the data\n",
        "nprof = 25 #Selected profile\n",
        "plt.scatter(data.psal_adjusted[nprof], data.temp_adjusted[nprof], c=data.pres_adjusted[nprof], cmap='viridis_r')\n",
        "plt.xlabel('Salinity');\n",
        "plt.ylabel('Temperature (°C)')\n",
        "plt.title('Argo Float #%d on %s' % (data.platform_number[nprof].values, data.juld[nprof].dt.strftime('%Y-%m-%d').values), fontweight='bold');\n",
        "\n",
        "# Add a colorbar\n",
        "cbh = plt.colorbar(label='Pressure (dbar)');"
      ],
      "execution_count": 0,
      "outputs": []
    },
    {
      "cell_type": "markdown",
      "metadata": {
        "id": "QP0I3tZOEvfY",
        "colab_type": "text"
      },
      "source": [
        "## Float Track Map"
      ]
    },
    {
      "cell_type": "code",
      "metadata": {
        "id": "Ws2TtVU05TXe",
        "colab_type": "code",
        "colab": {}
      },
      "source": [
        "# Simple map of a float track\n",
        "plt.figure(figsize=(8,6))\n",
        "plt.plot(data.longitude, data.latitude, c='lightgrey')\n",
        "plt.scatter(data.longitude, data.latitude, c=data.juld, cmap='RdYlBu')\n",
        "\n",
        "# Crude profile labels\n",
        "for jj in [1,25,-1]:\n",
        "  plt.text(data.longitude[jj]+.02, data.latitude[jj]+.02, data.n_prof[jj].values)\n",
        "\n",
        "# Add a colorbar\n",
        "cbar = plt.colorbar();\n",
        "\n",
        "# Fix the colorbar ticks\n",
        "import pandas as pd # We need pandas for this\n",
        "cbar.ax.set_yticklabels(pd.to_datetime(cbar.get_ticks()).strftime(date_format='%Y-%m-%d'));\n",
        "\n",
        "# Set the aspect ratio to pseudo-Mercator\n",
        "plt.gca().set_aspect(1 / np.cos(np.deg2rad( np.mean(plt.ylim()) )))"
      ],
      "execution_count": 0,
      "outputs": []
    },
    {
      "cell_type": "markdown",
      "metadata": {
        "id": "J_RxiVQsZQnN",
        "colab_type": "text"
      },
      "source": [
        "## Fancier Maps with Cartopy\n",
        "The cartopy library provides a lot of great features to create your own custom maps, though it takes a lot of patience to get it to work correctly."
      ]
    },
    {
      "cell_type": "code",
      "metadata": {
        "id": "sT6Ri75Yae3r",
        "colab_type": "code",
        "colab": {}
      },
      "source": [
        "# Install Cartopy in Google Colab\n",
        "!apt-get -V -y -qq install python-cartopy python3-cartopy\n",
        "!pip uninstall shapely -y\n",
        "!pip install shapely --no-binary shapely"
      ],
      "execution_count": 0,
      "outputs": []
    },
    {
      "cell_type": "code",
      "metadata": {
        "id": "3SQrGWlqelrc",
        "colab_type": "code",
        "colab": {}
      },
      "source": [
        "import cartopy.crs as ccrs\n",
        "import matplotlib.pyplot as plt\n",
        "from cartopy.feature import NaturalEarthFeature"
      ],
      "execution_count": 0,
      "outputs": []
    },
    {
      "cell_type": "code",
      "metadata": {
        "id": "VXFIUE1VSxKe",
        "colab_type": "code",
        "colab": {}
      },
      "source": [
        "fig = plt.figure(figsize=(6.4,4.8),dpi=150)\n",
        "\n",
        "ax = plt.axes(projection=ccrs.PlateCarree())\n",
        "ax.set_extent([-130, -105, 22, 45])\n",
        "\n",
        "# Basemaps\n",
        "states = NaturalEarthFeature(category=\"cultural\", scale=\"10m\",\n",
        "                             facecolor=\"none\",\n",
        "                             name=\"admin_1_states_provinces_shp\")\n",
        "ax.add_feature(states, linewidth=.5, edgecolor=\"black\",facecolor='grey')\n",
        "ax.coastlines('50m', linewidth=1)\n",
        "\n",
        "ax.plot(data.longitude, data.latitude, linewidth=3, color='royalblue');\n"
      ],
      "execution_count": 0,
      "outputs": []
    },
    {
      "cell_type": "markdown",
      "metadata": {
        "id": "TuAEuhWNdriu",
        "colab_type": "text"
      },
      "source": [
        "For another example, check out this [notebook](https://github.com/ooi-data-lab/data-lab-workshops/blob/master/March2019/Activities/DL_March_Anoxia_v4.ipynb) which plots a glider track, colored by date, along with lat/lon labels and station locations."
      ]
    },
    {
      "cell_type": "markdown",
      "metadata": {
        "id": "b5z6araEkYhC",
        "colab_type": "text"
      },
      "source": [
        "# Additional Resources\n",
        "If you are interested in seeing some additional examples of the plotting features available in python, I encourage you to visit the following pages.\n",
        "\n",
        "* [Matplotlib Examples](https://matplotlib.org/gallery/index.html) - See what else this library can do.\n",
        "* [Seaborn Gallery](https://seaborn.pydata.org/examples/index.html) - A great library for creating good-looking common statistical graphs.\n",
        "* [Altair Example Gallery](https://altair-viz.github.io/gallery/index.html) - A more advanced tool for creating interactive graphs.\n",
        "* [Python Graph Gallery](https://python-graph-gallery.com/) - A great resource for learning about common data visualization styles and how to create them in python."
      ]
    }
  ]
}