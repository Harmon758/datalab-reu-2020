{
  "nbformat": 4,
  "nbformat_minor": 0,
  "metadata": {
    "colab": {
      "name": "Activity 0 Python Quickstart.ipynb",
      "provenance": [],
      "toc_visible": true
    },
    "kernelspec": {
      "name": "python3",
      "display_name": "Python 3"
    }
  },
  "cells": [
    {
      "cell_type": "markdown",
      "metadata": {
        "id": "qRPHAjb-E-9Q",
        "colab_type": "text"
      },
      "source": [
        "# Activity 0 - Python Quickstart\n",
        "**2020 Data Labs REU**\n",
        "\n",
        "*Written by Sage Lichtenwalner, Rutgers University, June 8, 2020*\n",
        "\n",
        "This notebook is designed as a kickoff activity to our 3-day Intro to Oceanographic Data Processing in Python series.  The commands here are simple and provided mostly without context (which will be discussed in later notebooks) in order to highlight some of the advantages of using Python in Research Computing.\n",
        "\n",
        "The code from this example was adapted from [A Quick Introduction to Python](https://github.com/ooi-data-lab/data-lab-workshops/blob/master/Summer_Examples/Python_Introduction.ipynb) develoed as part of our 2019 Summer workshop series."
      ]
    },
    {
      "cell_type": "markdown",
      "metadata": {
        "id": "c5kbjL5UGBia",
        "colab_type": "text"
      },
      "source": [
        "## Notebook and Python Basics"
      ]
    },
    {
      "cell_type": "code",
      "metadata": {
        "id": "upDBJahnE4LV",
        "colab_type": "code",
        "outputId": "83de2152-68a4-4dbb-b88e-f84658f42a17",
        "colab": {
          "base_uri": "https://localhost:8080/",
          "height": 34
        }
      },
      "source": [
        "2+2"
      ],
      "execution_count": 0,
      "outputs": [
        {
          "output_type": "execute_result",
          "data": {
            "text/plain": [
              "4"
            ]
          },
          "metadata": {
            "tags": []
          },
          "execution_count": 23
        }
      ]
    },
    {
      "cell_type": "code",
      "metadata": {
        "id": "aZ680o6bFuIR",
        "colab_type": "code",
        "colab": {}
      },
      "source": [
        "a = 42"
      ],
      "execution_count": 0,
      "outputs": []
    },
    {
      "cell_type": "code",
      "metadata": {
        "id": "kzdOionBFuNg",
        "colab_type": "code",
        "outputId": "b18db6c3-daf0-48de-be0a-e0296dd21e61",
        "colab": {
          "base_uri": "https://localhost:8080/",
          "height": 34
        }
      },
      "source": [
        "a"
      ],
      "execution_count": 0,
      "outputs": [
        {
          "output_type": "execute_result",
          "data": {
            "text/plain": [
              "42"
            ]
          },
          "metadata": {
            "tags": []
          },
          "execution_count": 25
        }
      ]
    },
    {
      "cell_type": "code",
      "metadata": {
        "id": "fzKT_UMHFuSq",
        "colab_type": "code",
        "colab": {}
      },
      "source": [
        "b = 'Life, The Universe, and Everything'"
      ],
      "execution_count": 0,
      "outputs": []
    },
    {
      "cell_type": "code",
      "metadata": {
        "id": "ZOHMWqmzFuWq",
        "colab_type": "code",
        "outputId": "22204f80-6a89-461a-d747-61c8825d5921",
        "colab": {
          "base_uri": "https://localhost:8080/",
          "height": 34
        }
      },
      "source": [
        "b"
      ],
      "execution_count": 0,
      "outputs": [
        {
          "output_type": "execute_result",
          "data": {
            "text/plain": [
              "'Life, The Universe, and Everything'"
            ]
          },
          "metadata": {
            "tags": []
          },
          "execution_count": 27
        }
      ]
    },
    {
      "cell_type": "markdown",
      "metadata": {
        "id": "n4MoZJRaGFMX",
        "colab_type": "text"
      },
      "source": [
        "## A Quick Data Example"
      ]
    },
    {
      "cell_type": "code",
      "metadata": {
        "id": "x9tzAxI7Fua3",
        "colab_type": "code",
        "colab": {}
      },
      "source": [
        "import pandas as pd"
      ],
      "execution_count": 0,
      "outputs": []
    },
    {
      "cell_type": "code",
      "metadata": {
        "id": "woP9UcXUGLOk",
        "colab_type": "code",
        "colab": {}
      },
      "source": [
        "url = 'https://marine.rutgers.edu/~sage/OOI_Data_Workshops/CP02PMUO_R9_ar24011.csv'"
      ],
      "execution_count": 0,
      "outputs": []
    },
    {
      "cell_type": "code",
      "metadata": {
        "id": "Fk3vEZakGMRD",
        "colab_type": "code",
        "outputId": "a437514a-b67b-4157-ca71-ed57c647dfdd",
        "colab": {
          "base_uri": "https://localhost:8080/",
          "height": 419
        }
      },
      "source": [
        "data = pd.read_csv(url)\n",
        "data"
      ],
      "execution_count": 0,
      "outputs": [
        {
          "output_type": "execute_result",
          "data": {
            "text/html": [
              "<div>\n",
              "<style scoped>\n",
              "    .dataframe tbody tr th:only-of-type {\n",
              "        vertical-align: middle;\n",
              "    }\n",
              "\n",
              "    .dataframe tbody tr th {\n",
              "        vertical-align: top;\n",
              "    }\n",
              "\n",
              "    .dataframe thead th {\n",
              "        text-align: right;\n",
              "    }\n",
              "</style>\n",
              "<table border=\"1\" class=\"dataframe\">\n",
              "  <thead>\n",
              "    <tr style=\"text-align: right;\">\n",
              "      <th></th>\n",
              "      <th>Depth</th>\n",
              "      <th>Pressure</th>\n",
              "      <th>Temperature</th>\n",
              "      <th>Salinity</th>\n",
              "      <th>Density</th>\n",
              "      <th>Fluorescence</th>\n",
              "      <th>Turbidity</th>\n",
              "      <th>Oxygen</th>\n",
              "    </tr>\n",
              "  </thead>\n",
              "  <tbody>\n",
              "    <tr>\n",
              "      <th>0</th>\n",
              "      <td>14</td>\n",
              "      <td>14.109</td>\n",
              "      <td>20.0267</td>\n",
              "      <td>34.7221</td>\n",
              "      <td>1521.47</td>\n",
              "      <td>0.0072</td>\n",
              "      <td>0.3726</td>\n",
              "      <td>34.7187</td>\n",
              "    </tr>\n",
              "    <tr>\n",
              "      <th>1</th>\n",
              "      <td>15</td>\n",
              "      <td>15.116</td>\n",
              "      <td>20.0913</td>\n",
              "      <td>34.7772</td>\n",
              "      <td>1521.73</td>\n",
              "      <td>-0.0245</td>\n",
              "      <td>0.3700</td>\n",
              "      <td>34.7693</td>\n",
              "    </tr>\n",
              "    <tr>\n",
              "      <th>2</th>\n",
              "      <td>16</td>\n",
              "      <td>16.124</td>\n",
              "      <td>20.2141</td>\n",
              "      <td>34.8684</td>\n",
              "      <td>1522.19</td>\n",
              "      <td>-0.0361</td>\n",
              "      <td>0.3785</td>\n",
              "      <td>34.8652</td>\n",
              "    </tr>\n",
              "    <tr>\n",
              "      <th>3</th>\n",
              "      <td>17</td>\n",
              "      <td>17.132</td>\n",
              "      <td>20.3139</td>\n",
              "      <td>34.9335</td>\n",
              "      <td>1522.55</td>\n",
              "      <td>-0.0401</td>\n",
              "      <td>0.3759</td>\n",
              "      <td>34.9386</td>\n",
              "    </tr>\n",
              "    <tr>\n",
              "      <th>4</th>\n",
              "      <td>18</td>\n",
              "      <td>18.140</td>\n",
              "      <td>20.4459</td>\n",
              "      <td>35.0250</td>\n",
              "      <td>1523.03</td>\n",
              "      <td>-0.0509</td>\n",
              "      <td>0.3744</td>\n",
              "      <td>35.0229</td>\n",
              "    </tr>\n",
              "    <tr>\n",
              "      <th>...</th>\n",
              "      <td>...</td>\n",
              "      <td>...</td>\n",
              "      <td>...</td>\n",
              "      <td>...</td>\n",
              "      <td>...</td>\n",
              "      <td>...</td>\n",
              "      <td>...</td>\n",
              "      <td>...</td>\n",
              "    </tr>\n",
              "    <tr>\n",
              "      <th>866</th>\n",
              "      <td>6</td>\n",
              "      <td>6.046</td>\n",
              "      <td>19.9109</td>\n",
              "      <td>34.6342</td>\n",
              "      <td>1520.92</td>\n",
              "      <td>-0.0185</td>\n",
              "      <td>0.3842</td>\n",
              "      <td>34.6310</td>\n",
              "    </tr>\n",
              "    <tr>\n",
              "      <th>867</th>\n",
              "      <td>5</td>\n",
              "      <td>5.039</td>\n",
              "      <td>19.9138</td>\n",
              "      <td>34.6359</td>\n",
              "      <td>1520.91</td>\n",
              "      <td>-0.0323</td>\n",
              "      <td>0.3816</td>\n",
              "      <td>34.6319</td>\n",
              "    </tr>\n",
              "    <tr>\n",
              "      <th>868</th>\n",
              "      <td>4</td>\n",
              "      <td>4.031</td>\n",
              "      <td>19.9145</td>\n",
              "      <td>34.6371</td>\n",
              "      <td>1520.90</td>\n",
              "      <td>-0.0236</td>\n",
              "      <td>0.3874</td>\n",
              "      <td>34.6333</td>\n",
              "    </tr>\n",
              "    <tr>\n",
              "      <th>869</th>\n",
              "      <td>3</td>\n",
              "      <td>3.023</td>\n",
              "      <td>19.9165</td>\n",
              "      <td>34.6385</td>\n",
              "      <td>1520.89</td>\n",
              "      <td>-0.0218</td>\n",
              "      <td>0.3842</td>\n",
              "      <td>34.6347</td>\n",
              "    </tr>\n",
              "    <tr>\n",
              "      <th>870</th>\n",
              "      <td>2</td>\n",
              "      <td>2.015</td>\n",
              "      <td>19.9122</td>\n",
              "      <td>34.6354</td>\n",
              "      <td>1520.86</td>\n",
              "      <td>0.0187</td>\n",
              "      <td>0.4047</td>\n",
              "      <td>34.6308</td>\n",
              "    </tr>\n",
              "  </tbody>\n",
              "</table>\n",
              "<p>871 rows × 8 columns</p>\n",
              "</div>"
            ],
            "text/plain": [
              "     Depth  Pressure  Temperature  ...  Fluorescence  Turbidity   Oxygen\n",
              "0       14    14.109      20.0267  ...        0.0072     0.3726  34.7187\n",
              "1       15    15.116      20.0913  ...       -0.0245     0.3700  34.7693\n",
              "2       16    16.124      20.2141  ...       -0.0361     0.3785  34.8652\n",
              "3       17    17.132      20.3139  ...       -0.0401     0.3759  34.9386\n",
              "4       18    18.140      20.4459  ...       -0.0509     0.3744  35.0229\n",
              "..     ...       ...          ...  ...           ...        ...      ...\n",
              "866      6     6.046      19.9109  ...       -0.0185     0.3842  34.6310\n",
              "867      5     5.039      19.9138  ...       -0.0323     0.3816  34.6319\n",
              "868      4     4.031      19.9145  ...       -0.0236     0.3874  34.6333\n",
              "869      3     3.023      19.9165  ...       -0.0218     0.3842  34.6347\n",
              "870      2     2.015      19.9122  ...        0.0187     0.4047  34.6308\n",
              "\n",
              "[871 rows x 8 columns]"
            ]
          },
          "metadata": {
            "tags": []
          },
          "execution_count": 30
        }
      ]
    },
    {
      "cell_type": "code",
      "metadata": {
        "id": "5uja3oJrGQWF",
        "colab_type": "code",
        "outputId": "06b3603b-629b-4aa7-ba2c-a2bae651c045",
        "colab": {
          "base_uri": "https://localhost:8080/",
          "height": 297
        }
      },
      "source": [
        "data.describe()"
      ],
      "execution_count": 0,
      "outputs": [
        {
          "output_type": "execute_result",
          "data": {
            "text/html": [
              "<div>\n",
              "<style scoped>\n",
              "    .dataframe tbody tr th:only-of-type {\n",
              "        vertical-align: middle;\n",
              "    }\n",
              "\n",
              "    .dataframe tbody tr th {\n",
              "        vertical-align: top;\n",
              "    }\n",
              "\n",
              "    .dataframe thead th {\n",
              "        text-align: right;\n",
              "    }\n",
              "</style>\n",
              "<table border=\"1\" class=\"dataframe\">\n",
              "  <thead>\n",
              "    <tr style=\"text-align: right;\">\n",
              "      <th></th>\n",
              "      <th>Depth</th>\n",
              "      <th>Pressure</th>\n",
              "      <th>Temperature</th>\n",
              "      <th>Salinity</th>\n",
              "      <th>Density</th>\n",
              "      <th>Fluorescence</th>\n",
              "      <th>Turbidity</th>\n",
              "      <th>Oxygen</th>\n",
              "    </tr>\n",
              "  </thead>\n",
              "  <tbody>\n",
              "    <tr>\n",
              "      <th>count</th>\n",
              "      <td>871.000000</td>\n",
              "      <td>871.000000</td>\n",
              "      <td>871.000000</td>\n",
              "      <td>871.000000</td>\n",
              "      <td>871.000000</td>\n",
              "      <td>871.000000</td>\n",
              "      <td>871.000000</td>\n",
              "      <td>871.000000</td>\n",
              "    </tr>\n",
              "    <tr>\n",
              "      <th>mean</th>\n",
              "      <td>225.208955</td>\n",
              "      <td>227.110232</td>\n",
              "      <td>11.493936</td>\n",
              "      <td>35.353968</td>\n",
              "      <td>1498.607773</td>\n",
              "      <td>-0.259318</td>\n",
              "      <td>0.361451</td>\n",
              "      <td>35.350359</td>\n",
              "    </tr>\n",
              "    <tr>\n",
              "      <th>std</th>\n",
              "      <td>125.862021</td>\n",
              "      <td>126.972414</td>\n",
              "      <td>3.870060</td>\n",
              "      <td>0.255037</td>\n",
              "      <td>11.098248</td>\n",
              "      <td>0.159814</td>\n",
              "      <td>0.027444</td>\n",
              "      <td>0.254881</td>\n",
              "    </tr>\n",
              "    <tr>\n",
              "      <th>min</th>\n",
              "      <td>2.000000</td>\n",
              "      <td>2.015000</td>\n",
              "      <td>6.252900</td>\n",
              "      <td>34.634200</td>\n",
              "      <td>1483.100000</td>\n",
              "      <td>-0.375900</td>\n",
              "      <td>0.328600</td>\n",
              "      <td>34.630800</td>\n",
              "    </tr>\n",
              "    <tr>\n",
              "      <th>25%</th>\n",
              "      <td>116.500000</td>\n",
              "      <td>117.432000</td>\n",
              "      <td>7.907650</td>\n",
              "      <td>35.123850</td>\n",
              "      <td>1487.855000</td>\n",
              "      <td>-0.335200</td>\n",
              "      <td>0.346150</td>\n",
              "      <td>35.120850</td>\n",
              "    </tr>\n",
              "    <tr>\n",
              "      <th>50%</th>\n",
              "      <td>225.000000</td>\n",
              "      <td>226.861000</td>\n",
              "      <td>11.021400</td>\n",
              "      <td>35.288300</td>\n",
              "      <td>1497.670000</td>\n",
              "      <td>-0.335000</td>\n",
              "      <td>0.352200</td>\n",
              "      <td>35.285600</td>\n",
              "    </tr>\n",
              "    <tr>\n",
              "      <th>75%</th>\n",
              "      <td>334.000000</td>\n",
              "      <td>336.851000</td>\n",
              "      <td>13.775450</td>\n",
              "      <td>35.607250</td>\n",
              "      <td>1505.530000</td>\n",
              "      <td>-0.296100</td>\n",
              "      <td>0.367750</td>\n",
              "      <td>35.603200</td>\n",
              "    </tr>\n",
              "    <tr>\n",
              "      <th>max</th>\n",
              "      <td>443.000000</td>\n",
              "      <td>446.900000</td>\n",
              "      <td>20.648000</td>\n",
              "      <td>35.793200</td>\n",
              "      <td>1523.790000</td>\n",
              "      <td>0.327700</td>\n",
              "      <td>0.501700</td>\n",
              "      <td>35.790500</td>\n",
              "    </tr>\n",
              "  </tbody>\n",
              "</table>\n",
              "</div>"
            ],
            "text/plain": [
              "            Depth    Pressure  ...   Turbidity      Oxygen\n",
              "count  871.000000  871.000000  ...  871.000000  871.000000\n",
              "mean   225.208955  227.110232  ...    0.361451   35.350359\n",
              "std    125.862021  126.972414  ...    0.027444    0.254881\n",
              "min      2.000000    2.015000  ...    0.328600   34.630800\n",
              "25%    116.500000  117.432000  ...    0.346150   35.120850\n",
              "50%    225.000000  226.861000  ...    0.352200   35.285600\n",
              "75%    334.000000  336.851000  ...    0.367750   35.603200\n",
              "max    443.000000  446.900000  ...    0.501700   35.790500\n",
              "\n",
              "[8 rows x 8 columns]"
            ]
          },
          "metadata": {
            "tags": []
          },
          "execution_count": 31
        }
      ]
    },
    {
      "cell_type": "code",
      "metadata": {
        "id": "siL32Li5GRBd",
        "colab_type": "code",
        "outputId": "a2997234-7958-490e-e093-a371cc2c5cf1",
        "colab": {
          "base_uri": "https://localhost:8080/",
          "height": 265
        }
      },
      "source": [
        "# Let's plot the depth column\n",
        "data['Depth'].plot();"
      ],
      "execution_count": 0,
      "outputs": [
        {
          "output_type": "display_data",
          "data": {
            "image/png": "[encoded data removed]",
            "text/plain": [
              "<Figure size 432x288 with 1 Axes>"
            ]
          },
          "metadata": {
            "tags": [],
            "needs_background": "light"
          }
        }
      ]
    },
    {
      "cell_type": "code",
      "metadata": {
        "id": "Yo6eAZOXGWyL",
        "colab_type": "code",
        "outputId": "47e5ae1f-6768-4ada-97e9-384ded995ffa",
        "colab": {
          "base_uri": "https://localhost:8080/",
          "height": 265
        }
      },
      "source": [
        "# Now let's plot temperature\n",
        "data['Temperature'].plot();"
      ],
      "execution_count": 0,
      "outputs": [
        {
          "output_type": "display_data",
          "data": {
            "image/png": "[encoded data removed]",
            "text/plain": [
              "<Figure size 432x288 with 1 Axes>"
            ]
          },
          "metadata": {
            "tags": [],
            "needs_background": "light"
          }
        }
      ]
    },
    {
      "cell_type": "code",
      "metadata": {
        "id": "xEBlWEjhGYDB",
        "colab_type": "code",
        "outputId": "10612c9b-e9d3-4629-8e9c-41461f60ce2f",
        "colab": {
          "base_uri": "https://localhost:8080/",
          "height": 279
        }
      },
      "source": [
        "# Temperature vs. Depth\n",
        "ax = data.plot(x='Temperature',y='Depth');\n",
        "ax.invert_yaxis(); # Flip the y-axis"
      ],
      "execution_count": 0,
      "outputs": [
        {
          "output_type": "display_data",
          "data": {
            "image/png": "[encoded data removed]",
            "text/plain": [
              "<Figure size 432x288 with 1 Axes>"
            ]
          },
          "metadata": {
            "tags": [],
            "needs_background": "light"
          }
        }
      ]
    },
    {
      "cell_type": "code",
      "metadata": {
        "id": "gfQT6GBSGma8",
        "colab_type": "code",
        "colab": {}
      },
      "source": [
        "data.describe().to_csv('ctd_summary.csv');"
      ],
      "execution_count": 0,
      "outputs": []
    }
  ]
}